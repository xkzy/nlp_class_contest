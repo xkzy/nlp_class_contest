{
  "metadata": {
    "kernelspec": {
      "display_name": "Python 3",
      "name": "python3"
    },
    "language_info": {
      "pygments_lexer": "ipython3",
      "nbconvert_exporter": "python",
      "version": "3.6.4",
      "file_extension": ".py",
      "codemirror_mode": {
        "name": "ipython",
        "version": 3
      },
      "name": "python",
      "mimetype": "text/x-python"
    },
    "colab": {
      "provenance": [],
      "gpuType": "T4",
      "include_colab_link": true
    },
    "accelerator": "GPU"
  },
  "nbformat_minor": 0,
  "nbformat": 4,
  "cells": [
    {
      "cell_type": "markdown",
      "metadata": {
        "id": "view-in-github",
        "colab_type": "text"
      },
      "source": [
        "<a href=\"https://colab.research.google.com/github/xkzy/nlp_class_contest/blob/main/cmu_nlp_contest.ipynb\" target=\"_parent\"><img src=\"https://colab.research.google.com/assets/colab-badge.svg\" alt=\"Open In Colab\"/></a>"
      ]
    },
    {
      "cell_type": "code",
      "source": [
        "!wget -nc https://github.com/xkzy/nlp_class_contest/releases/download/Dataset/input.txt\n",
        "!wget -nc https://github.com/xkzy/nlp_class_contest/releases/download/Dataset/ans.txt\n",
        "!wget -nc https://github.com/xkzy/nlp_class_contest/releases/download/Dataset/text_pairs.json"
      ],
      "metadata": {
        "_uuid": "8f2839f25d086af736a60e9eeb907d3b93b6e0e5",
        "_cell_guid": "b1076dfc-b9ad-4769-8c92-a6c4dae69d19",
        "execution": {
          "iopub.status.busy": "2023-10-02T04:13:00.569571Z",
          "iopub.execute_input": "2023-10-02T04:13:00.570037Z",
          "iopub.status.idle": "2023-10-02T04:13:01.039382Z",
          "shell.execute_reply.started": "2023-10-02T04:13:00.570007Z",
          "shell.execute_reply": "2023-10-02T04:13:01.038160Z"
        },
        "trusted": true,
        "id": "VSJ-W-gWjH2j"
      },
      "execution_count": null,
      "outputs": []
    },
    {
      "cell_type": "code",
      "source": [
        "!pip install deepcut -q -q -q --exists-action i\n",
        "!pip install pythainlp['full'] -q -q -q --exists-action i"
      ],
      "metadata": {
        "execution": {
          "iopub.status.busy": "2023-10-02T04:13:01.041744Z",
          "iopub.execute_input": "2023-10-02T04:13:01.042547Z"
        },
        "trusted": true,
        "id": "pxbj0S3NjH2n"
      },
      "execution_count": null,
      "outputs": []
    },
    {
      "cell_type": "code",
      "source": [
        "import subprocess\n",
        "from keras.callbacks import ModelCheckpoint\n",
        "import tensorflow as tf\n",
        "import csv\n",
        "import numpy as np\n",
        "import deepcut\n",
        "from keras.models import Model, load_model\n",
        "from keras.layers import Input, Dense\n",
        "from tensorflow.keras.utils import to_categorical, set_random_seed\n",
        "import matplotlib.pyplot as plt\n",
        "from random import shuffle\n",
        "import pathlib\n",
        "import random\n",
        "import string\n",
        "import re\n",
        "from tensorflow import keras\n",
        "from tensorflow.keras import layers\n",
        "from tensorflow.keras.layers import TextVectorization\n",
        "import pythainlp\n",
        "import json\n",
        "import os\n",
        "from posixpath import split\n",
        "\n",
        "\n",
        "set_random_seed(99)\n",
        "random.seed(99)"
      ],
      "metadata": {
        "trusted": true,
        "id": "kXX6xHKojH2o"
      },
      "execution_count": null,
      "outputs": []
    },
    {
      "cell_type": "code",
      "source": [
        "try:\n",
        "    subprocess.check_output('nvidia-smi')\n",
        "    print('Nvidia GPU detected!')\n",
        "except Exception: # this command not being found can raise quite a few different errors depending on the configuration\n",
        "    print('No Nvidia GPU in system!')"
      ],
      "metadata": {
        "trusted": true,
        "id": "RhrPQF48jH2p"
      },
      "execution_count": null,
      "outputs": []
    },
    {
      "cell_type": "code",
      "source": [
        "print(tf.__version__)\n",
        "tf.test.is_gpu_available()\n",
        "print(tf.config.list_physical_devices())"
      ],
      "metadata": {
        "trusted": true,
        "id": "AyRepC5NjH2r"
      },
      "execution_count": null,
      "outputs": []
    },
    {
      "cell_type": "code",
      "source": [
        "def sentence_loader(input_file):\n",
        "    out=[]\n",
        "    for i in list(input_file):\n",
        "        s = i.split('::')[1].strip()\n",
        "        s = ' '.join(pythainlp.word_tokenize(s,engine = 'deepcut'))\n",
        "        out.append(s)\n",
        "    return out\n",
        "\n",
        "def answer_loader(ans_file):\n",
        "    out=[]\n",
        "    for i in ans_file:\n",
        "        s = '[start] '+i.split('::')[1].strip().replace(\",\", \" \")+' [end]'\n",
        "        out.append(s)\n",
        "    return out\n",
        "\n",
        "def pair_gen(s,a):\n",
        "    return list(zip(s,a))"
      ],
      "metadata": {
        "trusted": true,
        "id": "FCPXle0sjH2r"
      },
      "execution_count": null,
      "outputs": []
    },
    {
      "cell_type": "code",
      "source": [
        "input_file = open('input.txt', 'r',encoding = 'utf-8-sig')\n",
        "ans_file = open('ans.txt', 'r',encoding = 'utf-8-sig')"
      ],
      "metadata": {
        "trusted": true,
        "id": "2AlPTJEhjH2s"
      },
      "execution_count": null,
      "outputs": []
    },
    {
      "cell_type": "code",
      "source": [
        "input_data = sentence_loader(input_file)\n",
        "ans_data = answer_loader(ans_file)\n",
        "text_pairs = []\n",
        "if os.path.exists('text_pairs.json'):\n",
        "    with open('text_pairs.json', 'rb') as fp:\n",
        "        text_pairs = json.load(fp)\n",
        "else:\n",
        "    text_pairs = pair_gen(input_data,ans_data)\n",
        "    with open(\"text_pairs.json\", \"w\") as fp:\n",
        "        json.dump(text_pairs, fp)\n",
        "        print(\"Done writing JSON data into .json file\")\n",
        "\n",
        "print(len(text_pairs))\n",
        "for _ in range(5):\n",
        "    print(random.choice(text_pairs))"
      ],
      "metadata": {
        "trusted": true,
        "id": "Jo1FiXxHjH2t"
      },
      "execution_count": null,
      "outputs": []
    },
    {
      "cell_type": "code",
      "source": [
        "random.shuffle(text_pairs)\n",
        "num_val_samples = int(0.15 * len(text_pairs))\n",
        "num_train_samples = len(text_pairs) - 2 * num_val_samples\n",
        "train_pairs = text_pairs[:num_train_samples]\n",
        "val_pairs = text_pairs[num_train_samples : num_train_samples + num_val_samples]\n",
        "test_pairs = text_pairs[num_train_samples + num_val_samples :]\n",
        "\n",
        "print(f\"{len(text_pairs)} total pairs\")\n",
        "print(f\"{len(train_pairs)} training pairs\")\n",
        "print(f\"{len(val_pairs)} validation pairs\")\n",
        "print(f\"{len(test_pairs)} test pairs\")"
      ],
      "metadata": {
        "trusted": true,
        "id": "GBJWuikejH2t"
      },
      "execution_count": null,
      "outputs": []
    },
    {
      "cell_type": "code",
      "source": [
        "strip_chars = string.punctuation + \"¿\"\n",
        "strip_chars = strip_chars.replace(\"[\", \"\")\n",
        "strip_chars = strip_chars.replace(\"]\", \"\")\n",
        "\n",
        "vocab_input_size = 15000\n",
        "vocab_ans_size = 5+1\n",
        "sequence_length = 32\n",
        "batch_size = 32\n",
        "\n",
        "\n",
        "def custom_standardization(input_string):\n",
        "    lowercase = tf.strings.lower(input_string)\n",
        "    return tf.strings.regex_replace(lowercase, \"[%s]\" % re.escape(strip_chars), \"\")\n",
        "\n",
        "\n",
        "input_vectorization = TextVectorization(\n",
        "    max_tokens=vocab_input_size,\n",
        "    output_mode=\"int\",\n",
        "    output_sequence_length=sequence_length,\n",
        "    split='whitespace',\n",
        ")\n",
        "ans_vectorization = TextVectorization(\n",
        "    max_tokens=vocab_ans_size,\n",
        "    output_mode=\"int\",\n",
        "    output_sequence_length=sequence_length + 1,\n",
        "    standardize=custom_standardization,\n",
        "    split='whitespace',\n",
        ")\n",
        "train_input_texts = [pair[0] for pair in train_pairs]\n",
        "train_ans_texts = [pair[1] for pair in train_pairs]\n",
        "input_vectorization.adapt(train_input_texts)\n",
        "ans_vectorization.adapt(train_ans_texts)"
      ],
      "metadata": {
        "trusted": true,
        "id": "DKXPLY9DjH2u"
      },
      "execution_count": null,
      "outputs": []
    },
    {
      "cell_type": "code",
      "source": [
        "def format_dataset(input, ans):\n",
        "    input = input_vectorization(input)\n",
        "    ans = ans_vectorization(ans)\n",
        "    return (\n",
        "        {\n",
        "            \"encoder_inputs\": input,\n",
        "            \"decoder_inputs\": ans[:, :-1],\n",
        "        },\n",
        "        ans[:, 1:],\n",
        "    )\n",
        "\n",
        "\n",
        "def make_dataset(pairs):\n",
        "    input_texts, ans_texts = zip(*pairs)\n",
        "    input_texts = list(input_texts)\n",
        "    ans_texts = list(ans_texts)\n",
        "    dataset = tf.data.Dataset.from_tensor_slices((input_texts, ans_texts))\n",
        "    dataset = dataset.batch(batch_size)\n",
        "    dataset = dataset.map(format_dataset)\n",
        "    return dataset.shuffle(2048).prefetch(16).cache()\n",
        "\n",
        "\n",
        "train_ds = make_dataset(train_pairs)\n",
        "val_ds = make_dataset(val_pairs)\n",
        "test_ds = make_dataset(test_pairs)"
      ],
      "metadata": {
        "trusted": true,
        "id": "2gqam7W0jH2v"
      },
      "execution_count": null,
      "outputs": []
    },
    {
      "cell_type": "code",
      "source": [
        "for inputs, targets in train_ds.take(1):\n",
        "    print(f'inputs[\"encoder_inputs\"].shape: {inputs[\"encoder_inputs\"].shape}')\n",
        "    print(f'inputs[\"decoder_inputs\"].shape: {inputs[\"decoder_inputs\"].shape}')\n",
        "    print(f\"targets.shape: {targets.shape}\")"
      ],
      "metadata": {
        "trusted": true,
        "id": "M6oIXaCyjH2v"
      },
      "execution_count": null,
      "outputs": []
    },
    {
      "cell_type": "code",
      "source": [
        "class TransformerEncoder(layers.Layer):\n",
        "    def __init__(self, embed_dim, dense_dim, num_heads, **kwargs):\n",
        "        super().__init__(**kwargs)\n",
        "        self.embed_dim = embed_dim\n",
        "        self.dense_dim = dense_dim\n",
        "        self.num_heads = num_heads\n",
        "        self.attention = layers.MultiHeadAttention(\n",
        "            num_heads=num_heads, key_dim=embed_dim\n",
        "        )\n",
        "        self.dense_proj = keras.Sequential(\n",
        "            [\n",
        "                layers.Dense(dense_dim, activation=\"relu\"),\n",
        "                layers.Dense(embed_dim),\n",
        "            ]\n",
        "        )\n",
        "        self.layernorm_1 = layers.LayerNormalization()\n",
        "        self.layernorm_2 = layers.LayerNormalization()\n",
        "        self.supports_masking = True\n",
        "\n",
        "    def call(self, inputs, mask=None):\n",
        "        attention_output = self.attention(query=inputs, value=inputs, key=inputs)\n",
        "        proj_input = self.layernorm_1(inputs + attention_output)\n",
        "        proj_output = self.dense_proj(proj_input)\n",
        "        return self.layernorm_2(proj_input + proj_output)\n",
        "\n",
        "    def get_config(self):\n",
        "        config = super().get_config()\n",
        "        config.update(\n",
        "            {\n",
        "                \"embed_dim\": self.embed_dim,\n",
        "                \"dense_dim\": self.dense_dim,\n",
        "                \"num_heads\": self.num_heads,\n",
        "            }\n",
        "        )\n",
        "        return config\n",
        "\n",
        "\n",
        "class PositionalEmbedding(layers.Layer):\n",
        "    def __init__(self, sequence_length, vocab_size, embed_dim, **kwargs):\n",
        "        super().__init__(**kwargs)\n",
        "        self.token_embeddings = layers.Embedding(\n",
        "            input_dim=vocab_size, output_dim=embed_dim\n",
        "        )\n",
        "        self.position_embeddings = layers.Embedding(\n",
        "            input_dim=sequence_length, output_dim=embed_dim\n",
        "        )\n",
        "        self.sequence_length = sequence_length\n",
        "        self.vocab_size = vocab_size\n",
        "        self.embed_dim = embed_dim\n",
        "\n",
        "    def call(self, inputs):\n",
        "        length = tf.shape(inputs)[-1]\n",
        "        positions = tf.range(start=0, limit=length, delta=1)\n",
        "        embedded_tokens = self.token_embeddings(inputs)\n",
        "        embedded_positions = self.position_embeddings(positions)\n",
        "        return embedded_tokens + embedded_positions\n",
        "\n",
        "    def compute_mask(self, inputs, mask=None):\n",
        "        return tf.math.not_equal(inputs, 0)\n",
        "\n",
        "    def get_config(self):\n",
        "        config = super().get_config()\n",
        "        config.update(\n",
        "            {\n",
        "                \"sequence_length\": self.sequence_length,\n",
        "                \"vocab_size\": self.vocab_size,\n",
        "                \"embed_dim\": self.embed_dim,\n",
        "            }\n",
        "        )\n",
        "        return config\n",
        "\n",
        "\n",
        "class TransformerDecoder(layers.Layer):\n",
        "    def __init__(self, embed_dim, latent_dim, num_heads, **kwargs):\n",
        "        super().__init__(**kwargs)\n",
        "        self.embed_dim = embed_dim\n",
        "        self.latent_dim = latent_dim\n",
        "        self.num_heads = num_heads\n",
        "        self.attention_1 = layers.MultiHeadAttention(\n",
        "            num_heads=num_heads, key_dim=embed_dim\n",
        "        )\n",
        "        self.attention_2 = layers.MultiHeadAttention(\n",
        "            num_heads=num_heads, key_dim=embed_dim\n",
        "        )\n",
        "        self.dense_proj = keras.Sequential(\n",
        "            [\n",
        "                layers.Dense(latent_dim, activation=\"relu\"),\n",
        "                layers.Dense(embed_dim),\n",
        "            ]\n",
        "        )\n",
        "        self.layernorm_1 = layers.LayerNormalization()\n",
        "        self.layernorm_2 = layers.LayerNormalization()\n",
        "        self.layernorm_3 = layers.LayerNormalization()\n",
        "        self.add = layers.Add()  # instead of `+` to preserve mask\n",
        "        self.supports_masking = True\n",
        "\n",
        "    def call(self, inputs, encoder_outputs, mask=None):\n",
        "        attention_output_1 = self.attention_1(\n",
        "            query=inputs, value=inputs, key=inputs, use_causal_mask=True\n",
        "        )\n",
        "        out_1 = self.layernorm_1(self.add([inputs, attention_output_1]))\n",
        "\n",
        "        attention_output_2 = self.attention_2(\n",
        "            query=out_1,\n",
        "            value=encoder_outputs,\n",
        "            key=encoder_outputs,\n",
        "        )\n",
        "        out_2 = self.layernorm_2(self.add([out_1, attention_output_2]))\n",
        "\n",
        "        proj_output = self.dense_proj(out_2)\n",
        "        return self.layernorm_3(self.add([out_2, proj_output]))\n",
        "\n",
        "\n",
        "    def get_config(self):\n",
        "        config = super().get_config()\n",
        "        config.update(\n",
        "            {\n",
        "                \"embed_dim\": self.embed_dim,\n",
        "                \"latent_dim\": self.latent_dim,\n",
        "                \"num_heads\": self.num_heads,\n",
        "            }\n",
        "        )\n",
        "        return config"
      ],
      "metadata": {
        "trusted": true,
        "id": "xTcH4LDkjH2w"
      },
      "execution_count": null,
      "outputs": []
    },
    {
      "cell_type": "code",
      "source": [
        "embed_dim = 300\n",
        "latent_dim = 1024\n",
        "num_heads = 8\n",
        "num_en_transformer_blocks = 2\n",
        "num_de_transformer_blocks = 2\n",
        "\n",
        "\n",
        "encoder_inputs = keras.Input(shape=(None,), dtype=\"int64\", name=\"encoder_inputs\")\n",
        "x = PositionalEmbedding(sequence_length, vocab_input_size, embed_dim)(encoder_inputs)\n",
        "for _ in range(num_en_transformer_blocks):\n",
        "    x = TransformerEncoder(embed_dim, latent_dim, num_heads)(x)\n",
        "encoder_outputs = x\n",
        "encoder = keras.Model(encoder_inputs, encoder_outputs)\n",
        "\n",
        "decoder_inputs = keras.Input(shape=(None,), dtype=\"int64\", name=\"decoder_inputs\")\n",
        "encoded_seq_inputs = keras.Input(shape=(None, embed_dim), name=\"decoder_state_inputs\")\n",
        "x = PositionalEmbedding(sequence_length, vocab_ans_size, embed_dim)(decoder_inputs)\n",
        "x = TransformerDecoder(embed_dim, latent_dim, num_heads)(x, encoded_seq_inputs)\n",
        "for _ in range(num_de_transformer_blocks-1):\n",
        "    x = TransformerEncoder(embed_dim, latent_dim, num_heads)(x)\n",
        "    x = layers.Dropout(0)(x)\n",
        "decoder_outputs = layers.Dense(vocab_ans_size, activation=\"softmax\")(x)\n",
        "decoder = keras.Model([decoder_inputs, encoded_seq_inputs], decoder_outputs)\n",
        "\n",
        "decoder_outputs = decoder([decoder_inputs, encoder_outputs])\n",
        "transformer = keras.Model(\n",
        "    [encoder_inputs, decoder_inputs], decoder_outputs, name=\"transformer\"\n",
        ")"
      ],
      "metadata": {
        "trusted": true,
        "id": "OZoBBwikjH2x"
      },
      "execution_count": null,
      "outputs": []
    },
    {
      "cell_type": "code",
      "source": [
        "epochs = 100  # This should be at least 30 for convergence\n",
        "\n",
        "checkpoint = ModelCheckpoint('transformer_model_best_val.h5', #อย่าลืมเปลี่ยน path ให้ file\n",
        "                             verbose=1,\n",
        "                             monitor='val_accuracy',\n",
        "                             save_best_only=True,\n",
        "                             mode='max')\n",
        "\n",
        "transformer.summary()\n",
        "transformer.compile(\n",
        "    \"rmsprop\", loss=\"sparse_categorical_crossentropy\", metrics=[\"accuracy\"]\n",
        ")"
      ],
      "metadata": {
        "trusted": true,
        "id": "qOyR7wzajH2y"
      },
      "execution_count": null,
      "outputs": []
    },
    {
      "cell_type": "code",
      "source": [
        "dot_img_file = 'model_1.png'\n",
        "tf.keras.utils.plot_model(transformer, to_file=dot_img_file, show_shapes=True)"
      ],
      "metadata": {
        "id": "YqRoF_a0pzqz"
      },
      "execution_count": null,
      "outputs": []
    },
    {
      "cell_type": "code",
      "source": [
        "force_train = True\n",
        "if not os.path.exists('transformer_model_best_val.h5') or force_train:\n",
        "    transformer.fit(train_ds, epochs=epochs, validation_data=val_ds,callbacks=[checkpoint])"
      ],
      "metadata": {
        "trusted": true,
        "id": "f2qX9difjH2y",
        "colab": {
          "base_uri": "https://localhost:8080/"
        },
        "outputId": "2c3fe2b5-4496-47cf-9146-1313be90ab6a"
      },
      "execution_count": null,
      "outputs": [
        {
          "output_type": "stream",
          "name": "stdout",
          "text": [
            "Epoch 1/100\n",
            "106/106 [==============================] - ETA: 0s - loss: 1.9709 - accuracy: 0.2829\n",
            "Epoch 1: val_accuracy improved from -inf to 0.29160, saving model to transformer_model_best_val.h5\n",
            "106/106 [==============================] - 25s 117ms/step - loss: 1.9709 - accuracy: 0.2829 - val_loss: 1.2359 - val_accuracy: 0.2916\n",
            "Epoch 2/100\n",
            "106/106 [==============================] - ETA: 0s - loss: 1.6048 - accuracy: 0.3120\n",
            "Epoch 2: val_accuracy improved from 0.29160 to 0.51616, saving model to transformer_model_best_val.h5\n",
            "106/106 [==============================] - 7s 65ms/step - loss: 1.6048 - accuracy: 0.3120 - val_loss: 1.0613 - val_accuracy: 0.5162\n",
            "Epoch 3/100\n",
            "106/106 [==============================] - ETA: 0s - loss: 1.4451 - accuracy: 0.2887\n",
            "Epoch 3: val_accuracy did not improve from 0.51616\n",
            "106/106 [==============================] - 7s 63ms/step - loss: 1.4451 - accuracy: 0.2887 - val_loss: 1.4216 - val_accuracy: 0.2916\n",
            "Epoch 4/100\n",
            "106/106 [==============================] - ETA: 0s - loss: 1.4021 - accuracy: 0.2751\n",
            "Epoch 4: val_accuracy did not improve from 0.51616\n",
            "106/106 [==============================] - 7s 61ms/step - loss: 1.4021 - accuracy: 0.2751 - val_loss: 1.3987 - val_accuracy: 0.2916\n",
            "Epoch 5/100\n",
            "106/106 [==============================] - ETA: 0s - loss: 1.3841 - accuracy: 0.2836\n",
            "Epoch 5: val_accuracy did not improve from 0.51616\n",
            "106/106 [==============================] - 7s 62ms/step - loss: 1.3841 - accuracy: 0.2836 - val_loss: 1.3883 - val_accuracy: 0.2916\n",
            "Epoch 6/100\n",
            "106/106 [==============================] - ETA: 0s - loss: 1.2410 - accuracy: 0.3798\n",
            "Epoch 6: val_accuracy improved from 0.51616 to 0.58320, saving model to transformer_model_best_val.h5\n",
            "106/106 [==============================] - 7s 67ms/step - loss: 1.2410 - accuracy: 0.3798 - val_loss: 0.8395 - val_accuracy: 0.5832\n",
            "Epoch 7/100\n",
            "106/106 [==============================] - ETA: 0s - loss: 0.7386 - accuracy: 0.6536\n",
            "Epoch 7: val_accuracy improved from 0.58320 to 0.91761, saving model to transformer_model_best_val.h5\n",
            "106/106 [==============================] - 7s 68ms/step - loss: 0.7386 - accuracy: 0.6536 - val_loss: 0.3774 - val_accuracy: 0.9176\n",
            "Epoch 8/100\n",
            "106/106 [==============================] - ETA: 0s - loss: 0.5088 - accuracy: 0.8224\n",
            "Epoch 8: val_accuracy did not improve from 0.91761\n",
            "106/106 [==============================] - 7s 68ms/step - loss: 0.5088 - accuracy: 0.8224 - val_loss: 0.2145 - val_accuracy: 0.9107\n",
            "Epoch 9/100\n",
            "106/106 [==============================] - ETA: 0s - loss: 0.3385 - accuracy: 0.8886\n",
            "Epoch 9: val_accuracy improved from 0.91761 to 0.92771, saving model to transformer_model_best_val.h5\n",
            "106/106 [==============================] - 8s 75ms/step - loss: 0.3385 - accuracy: 0.8886 - val_loss: 0.1523 - val_accuracy: 0.9277\n",
            "Epoch 10/100\n",
            "106/106 [==============================] - ETA: 0s - loss: 0.1802 - accuracy: 0.9351\n",
            "Epoch 10: val_accuracy improved from 0.92771 to 0.96244, saving model to transformer_model_best_val.h5\n",
            "106/106 [==============================] - 7s 68ms/step - loss: 0.1802 - accuracy: 0.9351 - val_loss: 0.0926 - val_accuracy: 0.9624\n",
            "Epoch 11/100\n",
            "106/106 [==============================] - ETA: 0s - loss: 0.1767 - accuracy: 0.9409\n",
            "Epoch 11: val_accuracy did not improve from 0.96244\n",
            "106/106 [==============================] - 6s 61ms/step - loss: 0.1767 - accuracy: 0.9409 - val_loss: 1.6296 - val_accuracy: 0.7427\n",
            "Epoch 12/100\n",
            "106/106 [==============================] - ETA: 0s - loss: 0.3727 - accuracy: 0.8606\n",
            "Epoch 12: val_accuracy did not improve from 0.96244\n",
            "106/106 [==============================] - 6s 59ms/step - loss: 0.3727 - accuracy: 0.8606 - val_loss: 0.2016 - val_accuracy: 0.9511\n",
            "Epoch 13/100\n",
            "106/106 [==============================] - ETA: 0s - loss: 0.5341 - accuracy: 0.8168\n",
            "Epoch 13: val_accuracy did not improve from 0.96244\n",
            "106/106 [==============================] - 7s 62ms/step - loss: 0.5341 - accuracy: 0.8168 - val_loss: 0.3796 - val_accuracy: 0.7981\n",
            "Epoch 14/100\n",
            "106/106 [==============================] - ETA: 0s - loss: 0.2977 - accuracy: 0.9046\n",
            "Epoch 14: val_accuracy improved from 0.96244 to 0.98546, saving model to transformer_model_best_val.h5\n",
            "106/106 [==============================] - 7s 65ms/step - loss: 0.2977 - accuracy: 0.9046 - val_loss: 0.0624 - val_accuracy: 0.9855\n",
            "Epoch 15/100\n",
            "106/106 [==============================] - ETA: 0s - loss: 0.1321 - accuracy: 0.9602\n",
            "Epoch 15: val_accuracy did not improve from 0.98546\n",
            "106/106 [==============================] - 6s 61ms/step - loss: 0.1321 - accuracy: 0.9602 - val_loss: 0.1288 - val_accuracy: 0.9733\n",
            "Epoch 16/100\n",
            "106/106 [==============================] - ETA: 0s - loss: 0.1465 - accuracy: 0.9516\n",
            "Epoch 16: val_accuracy did not improve from 0.98546\n",
            "106/106 [==============================] - 7s 62ms/step - loss: 0.1465 - accuracy: 0.9516 - val_loss: 0.2421 - val_accuracy: 0.9261\n",
            "Epoch 17/100\n",
            "106/106 [==============================] - ETA: 0s - loss: 0.1037 - accuracy: 0.9712\n",
            "Epoch 17: val_accuracy improved from 0.98546 to 0.99071, saving model to transformer_model_best_val.h5\n",
            "106/106 [==============================] - 7s 64ms/step - loss: 0.1037 - accuracy: 0.9712 - val_loss: 0.0469 - val_accuracy: 0.9907\n",
            "Epoch 18/100\n",
            "106/106 [==============================] - ETA: 0s - loss: 0.1501 - accuracy: 0.9612\n",
            "Epoch 18: val_accuracy improved from 0.99071 to 0.99758, saving model to transformer_model_best_val.h5\n",
            "106/106 [==============================] - 7s 64ms/step - loss: 0.1501 - accuracy: 0.9612 - val_loss: 0.0162 - val_accuracy: 0.9976\n",
            "Epoch 19/100\n",
            "106/106 [==============================] - ETA: 0s - loss: 0.2334 - accuracy: 0.9421\n",
            "Epoch 19: val_accuracy did not improve from 0.99758\n",
            "106/106 [==============================] - 6s 60ms/step - loss: 0.2334 - accuracy: 0.9421 - val_loss: 0.1391 - val_accuracy: 0.9830\n",
            "Epoch 20/100\n",
            "106/106 [==============================] - ETA: 0s - loss: 0.1611 - accuracy: 0.9518\n",
            "Epoch 20: val_accuracy did not improve from 0.99758\n",
            "106/106 [==============================] - 6s 61ms/step - loss: 0.1611 - accuracy: 0.9518 - val_loss: 0.0212 - val_accuracy: 0.9952\n",
            "Epoch 21/100\n",
            "106/106 [==============================] - ETA: 0s - loss: 0.1192 - accuracy: 0.9697\n",
            "Epoch 21: val_accuracy did not improve from 0.99758\n",
            "106/106 [==============================] - 6s 58ms/step - loss: 0.1192 - accuracy: 0.9697 - val_loss: 0.0467 - val_accuracy: 0.9943\n",
            "Epoch 22/100\n",
            "106/106 [==============================] - ETA: 0s - loss: 0.0726 - accuracy: 0.9797\n",
            "Epoch 22: val_accuracy did not improve from 0.99758\n",
            "106/106 [==============================] - 6s 61ms/step - loss: 0.0726 - accuracy: 0.9797 - val_loss: 0.0183 - val_accuracy: 0.9911\n",
            "Epoch 23/100\n",
            "106/106 [==============================] - ETA: 0s - loss: 0.0818 - accuracy: 0.9787\n",
            "Epoch 23: val_accuracy did not improve from 0.99758\n",
            "106/106 [==============================] - 6s 59ms/step - loss: 0.0818 - accuracy: 0.9787 - val_loss: 0.0287 - val_accuracy: 0.9931\n",
            "Epoch 24/100\n",
            "106/106 [==============================] - ETA: 0s - loss: 0.2261 - accuracy: 0.9549\n",
            "Epoch 24: val_accuracy did not improve from 0.99758\n",
            "106/106 [==============================] - 6s 61ms/step - loss: 0.2261 - accuracy: 0.9549 - val_loss: 0.0525 - val_accuracy: 0.9851\n",
            "Epoch 25/100\n",
            "106/106 [==============================] - ETA: 0s - loss: 0.0622 - accuracy: 0.9827\n",
            "Epoch 25: val_accuracy did not improve from 0.99758\n",
            "106/106 [==============================] - 6s 59ms/step - loss: 0.0622 - accuracy: 0.9827 - val_loss: 0.0221 - val_accuracy: 0.9952\n",
            "Epoch 26/100\n",
            " 42/106 [==========>...................] - ETA: 3s - loss: 0.0227 - accuracy: 0.9942"
          ]
        }
      ]
    },
    {
      "cell_type": "code",
      "source": [
        "transformer = load_model('transformer_model_best_val.h5',custom_objects={\n",
        "    'PositionalEmbedding': PositionalEmbedding,\n",
        "    'TransformerDecoder': TransformerDecoder,\n",
        "    'TransformerEncoder': TransformerEncoder,})\n",
        "\n",
        "ans_vocab = ans_vectorization.get_vocabulary()\n",
        "ans_index_lookup = dict(zip(range(len(ans_vocab)), ans_vocab))\n",
        "max_decoded_sentence_length = 64\n",
        "\n",
        "\n",
        "def decode_sequence(input_sentence):\n",
        "    tokenized_input_sentence = input_vectorization([input_sentence])\n",
        "    decoded_sentence = \"\"\n",
        "    for i in range(max_decoded_sentence_length):\n",
        "        tokenized_target_sentence = ans_vectorization([decoded_sentence])[:, :-1]\n",
        "        predictions = transformer([tokenized_input_sentence, tokenized_target_sentence])\n",
        "\n",
        "        sampled_token_index = np.argmax(predictions[0, i, :])\n",
        "        sampled_token = ans_index_lookup[sampled_token_index]\n",
        "\n",
        "        if sampled_token == \"[end]\":\n",
        "            break\n",
        "        else:\n",
        "            decoded_sentence += \",\" + sampled_token\n",
        "    return decoded_sentence.strip(',')\n",
        "\n",
        "\n",
        "test_input_texts = [pair[0] for pair in test_pairs]\n",
        "for _ in range(30):\n",
        "    input_sentence = random.choice(test_input_texts)\n",
        "    print(input_sentence)\n",
        "    translated = decode_sequence(input_sentence)\n",
        "    print(translated)"
      ],
      "metadata": {
        "trusted": true,
        "id": "Z1JEjf-WjH2z"
      },
      "execution_count": null,
      "outputs": []
    },
    {
      "cell_type": "code",
      "source": [
        "transformer.evaluate(test_ds, verbose=1)"
      ],
      "metadata": {
        "trusted": true,
        "id": "44hSVrTajH20"
      },
      "execution_count": null,
      "outputs": []
    }
  ]
}