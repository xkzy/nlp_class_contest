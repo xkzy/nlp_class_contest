{
  "metadata": {
    "kernelspec": {
      "display_name": "Python 3",
      "name": "python3"
    },
    "language_info": {
      "pygments_lexer": "ipython3",
      "nbconvert_exporter": "python",
      "version": "3.6.4",
      "file_extension": ".py",
      "codemirror_mode": {
        "name": "ipython",
        "version": 3
      },
      "name": "python",
      "mimetype": "text/x-python"
    },
    "colab": {
      "provenance": [],
      "gpuType": "T4",
      "include_colab_link": true
    },
    "accelerator": "GPU"
  },
  "nbformat_minor": 0,
  "nbformat": 4,
  "cells": [
    {
      "cell_type": "markdown",
      "metadata": {
        "id": "view-in-github",
        "colab_type": "text"
      },
      "source": [
        "<a href=\"https://colab.research.google.com/github/xkzy/nlp_class_contest/blob/main/cmu-nlp-contest.ipynb\" target=\"_parent\"><img src=\"https://colab.research.google.com/assets/colab-badge.svg\" alt=\"Open In Colab\"/></a>"
      ]
    },
    {
      "cell_type": "code",
      "source": [
        "!wget -nc https://github.com/xkzy/nlp_class_contest/releases/download/Dataset/input.txt\n",
        "!wget -nc https://github.com/xkzy/nlp_class_contest/releases/download/Dataset/ans.txt\n",
        "!wget -nc https://github.com/xkzy/nlp_class_contest/releases/download/Dataset/text_pairs.json\n",
        "!wget -nc https://github.com/xkzy/nlp_class_contest/releases/download/keras_model/transformer_model_best_val.h5"
      ],
      "metadata": {
        "_uuid": "8f2839f25d086af736a60e9eeb907d3b93b6e0e5",
        "_cell_guid": "b1076dfc-b9ad-4769-8c92-a6c4dae69d19",
        "execution": {
          "iopub.status.busy": "2023-10-02T04:13:00.569571Z",
          "iopub.execute_input": "2023-10-02T04:13:00.570037Z",
          "iopub.status.idle": "2023-10-02T04:13:01.039382Z",
          "shell.execute_reply.started": "2023-10-02T04:13:00.570007Z",
          "shell.execute_reply": "2023-10-02T04:13:01.038160Z"
        },
        "trusted": true,
        "id": "VSJ-W-gWjH2j",
        "colab": {
          "base_uri": "https://localhost:8080/"
        },
        "outputId": "eac0717c-f033-4161-87e3-2e92d42451fa"
      },
      "execution_count": 7,
      "outputs": [
        {
          "output_type": "stream",
          "name": "stdout",
          "text": [
            "File ‘input.txt’ already there; not retrieving.\n",
            "\n",
            "File ‘ans.txt’ already there; not retrieving.\n",
            "\n",
            "File ‘text_pairs.json’ already there; not retrieving.\n",
            "\n",
            "File ‘transformer_model_best_val.h5’ already there; not retrieving.\n",
            "\n"
          ]
        }
      ]
    },
    {
      "cell_type": "code",
      "source": [
        "!pip install deepcut -q -q -q --exists-action i\n",
        "!pip install pythainlp['full'] -q -q -q --exists-action i"
      ],
      "metadata": {
        "execution": {
          "iopub.status.busy": "2023-10-02T04:13:01.041744Z",
          "iopub.execute_input": "2023-10-02T04:13:01.042547Z"
        },
        "trusted": true,
        "id": "pxbj0S3NjH2n"
      },
      "execution_count": 8,
      "outputs": []
    },
    {
      "cell_type": "code",
      "source": [
        "import subprocess\n",
        "from keras.callbacks import ModelCheckpoint\n",
        "import tensorflow as tf\n",
        "import csv\n",
        "import numpy as np\n",
        "import deepcut\n",
        "from keras.models import Model, load_model\n",
        "from keras.layers import Input, Dense\n",
        "from tensorflow.keras.utils import to_categorical, set_random_seed\n",
        "import matplotlib.pyplot as plt\n",
        "from random import shuffle\n",
        "import pathlib\n",
        "import random\n",
        "import string\n",
        "import re\n",
        "from tensorflow import keras\n",
        "from tensorflow.keras import layers\n",
        "from tensorflow.keras.layers import TextVectorization\n",
        "import pythainlp\n",
        "import json\n",
        "import os\n",
        "from posixpath import split\n",
        "\n",
        "\n",
        "set_random_seed(99)\n",
        "random.seed(99)"
      ],
      "metadata": {
        "trusted": true,
        "id": "kXX6xHKojH2o"
      },
      "execution_count": 9,
      "outputs": []
    },
    {
      "cell_type": "code",
      "source": [
        "try:\n",
        "    subprocess.check_output('nvidia-smi')\n",
        "    print('Nvidia GPU detected!')\n",
        "except Exception: # this command not being found can raise quite a few different errors depending on the configuration\n",
        "    print('No Nvidia GPU in system!')"
      ],
      "metadata": {
        "trusted": true,
        "id": "RhrPQF48jH2p",
        "colab": {
          "base_uri": "https://localhost:8080/"
        },
        "outputId": "34727a03-5a80-4079-d3c9-0c69df159bed"
      },
      "execution_count": 10,
      "outputs": [
        {
          "output_type": "stream",
          "name": "stdout",
          "text": [
            "Nvidia GPU detected!\n"
          ]
        }
      ]
    },
    {
      "cell_type": "code",
      "source": [
        "print(tf.__version__)\n",
        "tf.test.is_gpu_available()\n",
        "print(tf.config.list_physical_devices())"
      ],
      "metadata": {
        "trusted": true,
        "id": "AyRepC5NjH2r",
        "colab": {
          "base_uri": "https://localhost:8080/"
        },
        "outputId": "b4d8ac8b-c01b-422f-a724-3b6096b82224"
      },
      "execution_count": 11,
      "outputs": [
        {
          "output_type": "stream",
          "name": "stderr",
          "text": [
            "WARNING:tensorflow:From <ipython-input-11-a6f12e301f5f>:2: is_gpu_available (from tensorflow.python.framework.test_util) is deprecated and will be removed in a future version.\n",
            "Instructions for updating:\n",
            "Use `tf.config.list_physical_devices('GPU')` instead.\n"
          ]
        },
        {
          "output_type": "stream",
          "name": "stdout",
          "text": [
            "2.13.0\n",
            "[PhysicalDevice(name='/physical_device:CPU:0', device_type='CPU'), PhysicalDevice(name='/physical_device:GPU:0', device_type='GPU')]\n"
          ]
        }
      ]
    },
    {
      "cell_type": "code",
      "source": [
        "def sentence_loader(input_file):\n",
        "    out=[]\n",
        "    for i in list(input_file):\n",
        "        s = i.split('::')[1].strip()\n",
        "        s = ' '.join(pythainlp.word_tokenize(s,engine = 'deepcut'))\n",
        "        out.append(s)\n",
        "    return out\n",
        "\n",
        "def answer_loader(ans_file):\n",
        "    out=[]\n",
        "    for i in ans_file:\n",
        "        sl=i.split('::')[1].strip().split(',')\n",
        "        pad = (' [pad]'*(3-len(sl)))\n",
        "        s = '[start] '+' '.join(sl)+' [end]'+pad\n",
        "        out.append(s)\n",
        "        print(s)\n",
        "    return out\n",
        "\n",
        "def pair_gen(s,a):\n",
        "    return list(zip(s,a))"
      ],
      "metadata": {
        "trusted": true,
        "id": "FCPXle0sjH2r"
      },
      "execution_count": 12,
      "outputs": []
    },
    {
      "cell_type": "code",
      "source": [
        "use_pre_cut_pair=True\n",
        "\n",
        "text_pairs = []\n",
        "if use_pre_cut_pair:\n",
        "    with open('text_pairs.json', 'rb') as fp:\n",
        "        text_pairs = json.load(fp)\n",
        "else:\n",
        "    with open('input.txt', 'r',encoding = 'utf-8-sig') as input_file:\n",
        "        input_data = sentence_loader(input_file)\n",
        "    with open('ans.txt', 'r',encoding = 'utf-8-sig') as ans_file:\n",
        "        ans_data = answer_loader(ans_file)\n",
        "    text_pairs = pair_gen(input_data,ans_data)\n",
        "    with open(\"text_pairs.json\", \"w\") as fp:\n",
        "        json.dump(text_pairs, fp)\n",
        "        print(\"Done writing JSON data into .json file\")"
      ],
      "metadata": {
        "id": "qVSdcsxuil9o"
      },
      "execution_count": 13,
      "outputs": []
    },
    {
      "cell_type": "code",
      "source": [
        "print(len(text_pairs))\n",
        "for _ in range(5):\n",
        "    print(random.choice(text_pairs))"
      ],
      "metadata": {
        "trusted": true,
        "id": "Jo1FiXxHjH2t",
        "colab": {
          "base_uri": "https://localhost:8080/"
        },
        "outputId": "1bbe0d69-4473-47bb-c7a6-9b5760eb77a5"
      },
      "execution_count": 14,
      "outputs": [
        {
          "output_type": "stream",
          "name": "stdout",
          "text": [
            "4818\n",
            "['แม่ ตา มา หา   แล้ว ตา ก็ ลุก ไม่ ไหว', '[start] P P [end] [pad]']\n",
            "['หลวงตาใส่ แว่น ตา สี ดำ แบรนด์ เนม คน นั้น แหละ ที่ ตก เป็น ข่าว อยู่ ตอน นี้', '[start] P E [end] [pad]']\n",
            "['เพราะ อาการ สาย ตา ยาว ของ คุณ ตา จึง ทำ ให้ อ่าน หนังสือ ลำบาก', '[start] E P [end] [pad]']\n",
            "['คง ต้อง ใช้ น้ำ ตา มากมาย เพื่อ ล้าง ตา   ไม่ ให้ เหลือ ภาพ เธอ ให้ จำ', '[start] E E [end] [pad]']\n",
            "['ตา เป็น สามี ของ ยาย', '[start] P [end] [pad] [pad]']\n"
          ]
        }
      ]
    },
    {
      "cell_type": "code",
      "source": [
        "random.shuffle(text_pairs)\n",
        "num_val_samples = int(0.15 * len(text_pairs))\n",
        "num_train_samples = len(text_pairs) - 2 * num_val_samples\n",
        "train_pairs = text_pairs[:num_train_samples]\n",
        "val_pairs = text_pairs[num_train_samples : num_train_samples + num_val_samples]\n",
        "test_pairs = text_pairs[num_train_samples + num_val_samples :]\n",
        "\n",
        "print(f\"{len(text_pairs)} total pairs\")\n",
        "print(f\"{len(train_pairs)} training pairs\")\n",
        "print(f\"{len(val_pairs)} validation pairs\")\n",
        "print(f\"{len(test_pairs)} test pairs\")"
      ],
      "metadata": {
        "trusted": true,
        "id": "GBJWuikejH2t",
        "colab": {
          "base_uri": "https://localhost:8080/"
        },
        "outputId": "efe8532b-ee67-49e5-fbd5-a96cf3110d0c"
      },
      "execution_count": 15,
      "outputs": [
        {
          "output_type": "stream",
          "name": "stdout",
          "text": [
            "4818 total pairs\n",
            "3374 training pairs\n",
            "722 validation pairs\n",
            "722 test pairs\n"
          ]
        }
      ]
    },
    {
      "cell_type": "code",
      "source": [
        "strip_chars = string.punctuation + \"¿\"\n",
        "strip_chars = strip_chars.replace(\"[\", \"\")\n",
        "strip_chars = strip_chars.replace(\"]\", \"\")\n",
        "\n",
        "vocab_input_size = 5000\n",
        "vocab_ans_size = 8\n",
        "sequence_length = 100\n",
        "sequence_ans_length = 5\n",
        "batch_size = 64\n",
        "\n",
        "\n",
        "def custom_standardization(input_string):\n",
        "    lowercase = tf.strings.lower(input_string)\n",
        "    return tf.strings.regex_replace(lowercase, \"[%s]\" % re.escape(strip_chars), \"\")\n",
        "\n",
        "\n",
        "input_vectorization = TextVectorization(\n",
        "    max_tokens=vocab_input_size,\n",
        "    # output_mode=\"tf_idf\",\n",
        "    output_mode=\"int\",\n",
        "    output_sequence_length=sequence_length,\n",
        "    split='whitespace',\n",
        ")\n",
        "ans_vectorization = TextVectorization(\n",
        "    max_tokens=vocab_ans_size,\n",
        "    output_mode=\"int\",\n",
        "    output_sequence_length=sequence_ans_length + 1,\n",
        "    standardize=custom_standardization,\n",
        "    split='whitespace',\n",
        ")\n",
        "train_input_texts = [pair[0] for pair in train_pairs]\n",
        "train_ans_texts = [pair[1] for pair in train_pairs]\n",
        "input_vectorization.adapt(train_input_texts)\n",
        "ans_vectorization.adapt(train_ans_texts)"
      ],
      "metadata": {
        "trusted": true,
        "id": "DKXPLY9DjH2u"
      },
      "execution_count": 16,
      "outputs": []
    },
    {
      "cell_type": "code",
      "source": [
        "len(input_vectorization.get_vocabulary())"
      ],
      "metadata": {
        "colab": {
          "base_uri": "https://localhost:8080/"
        },
        "id": "HsAMQGBOWL1j",
        "outputId": "b07372c0-241d-4c3d-960a-0d7daf5964eb"
      },
      "execution_count": 17,
      "outputs": [
        {
          "output_type": "execute_result",
          "data": {
            "text/plain": [
              "3490"
            ]
          },
          "metadata": {},
          "execution_count": 17
        }
      ]
    },
    {
      "cell_type": "code",
      "source": [
        "ans_vectorization.get_vocabulary()"
      ],
      "metadata": {
        "colab": {
          "base_uri": "https://localhost:8080/"
        },
        "id": "OBszIR35Wgsp",
        "outputId": "8d54ed66-2614-4b72-d0e9-37302c716e52"
      },
      "execution_count": 18,
      "outputs": [
        {
          "output_type": "execute_result",
          "data": {
            "text/plain": [
              "['', '[UNK]', '[pad]', '[start]', '[end]', 'e', 'p', 't']"
            ]
          },
          "metadata": {},
          "execution_count": 18
        }
      ]
    },
    {
      "cell_type": "code",
      "source": [
        "def format_dataset(input, ans):\n",
        "    input = input_vectorization(input)\n",
        "    ans = ans_vectorization(ans)\n",
        "    return (\n",
        "        {\n",
        "            \"encoder_inputs\": input,\n",
        "            \"decoder_inputs\": ans[:, :-1],\n",
        "        },\n",
        "        ans[:, 1:],\n",
        "    )\n",
        "\n",
        "\n",
        "def make_dataset(pairs):\n",
        "    input_texts, ans_texts = zip(*pairs)\n",
        "    input_texts = list(input_texts)\n",
        "    ans_texts = list(ans_texts)\n",
        "    dataset = tf.data.Dataset.from_tensor_slices((input_texts, ans_texts))\n",
        "    dataset = dataset.batch(batch_size)\n",
        "    dataset = dataset.map(format_dataset)\n",
        "    return dataset.shuffle(2048).prefetch(16).cache()\n",
        "\n",
        "\n",
        "train_ds = make_dataset(train_pairs)\n",
        "val_ds = make_dataset(val_pairs)\n",
        "test_ds = make_dataset(test_pairs)"
      ],
      "metadata": {
        "trusted": true,
        "id": "2gqam7W0jH2v"
      },
      "execution_count": 19,
      "outputs": []
    },
    {
      "cell_type": "code",
      "source": [
        "for inputs, targets in train_ds.take(1):\n",
        "    print(f'inputs[\"encoder_inputs\"].shape: {inputs[\"encoder_inputs\"].shape}')\n",
        "    print(f'inputs[\"decoder_inputs\"].shape: {inputs[\"decoder_inputs\"].shape}')\n",
        "    print(f\"targets.shape: {targets.shape}\")"
      ],
      "metadata": {
        "trusted": true,
        "id": "M6oIXaCyjH2v",
        "colab": {
          "base_uri": "https://localhost:8080/"
        },
        "outputId": "9d5aed0e-4da2-4f6b-f4ce-176c7cfece0d"
      },
      "execution_count": 20,
      "outputs": [
        {
          "output_type": "stream",
          "name": "stdout",
          "text": [
            "inputs[\"encoder_inputs\"].shape: (64, 100)\n",
            "inputs[\"decoder_inputs\"].shape: (64, 5)\n",
            "targets.shape: (64, 5)\n"
          ]
        }
      ]
    },
    {
      "cell_type": "code",
      "source": [
        "class TransformerEncoder(layers.Layer):\n",
        "    def __init__(self, embed_dim, dense_dim, num_heads, **kwargs):\n",
        "        super().__init__(**kwargs)\n",
        "        self.embed_dim = embed_dim\n",
        "        self.dense_dim = dense_dim\n",
        "        self.num_heads = num_heads\n",
        "        self.attention = layers.MultiHeadAttention(\n",
        "            num_heads=num_heads, key_dim=embed_dim\n",
        "        )\n",
        "        self.dense_proj = keras.Sequential(\n",
        "            [\n",
        "                layers.Dense(dense_dim, activation=\"relu\"),\n",
        "                layers.Dense(embed_dim),\n",
        "            ]\n",
        "        )\n",
        "        self.layernorm_1 = layers.LayerNormalization()\n",
        "        self.layernorm_2 = layers.LayerNormalization()\n",
        "        self.supports_masking = True\n",
        "\n",
        "    def call(self, inputs, mask=None):\n",
        "        attention_output = self.attention(query=inputs, value=inputs, key=inputs)\n",
        "        proj_input = self.layernorm_1(inputs + attention_output)\n",
        "        proj_output = self.dense_proj(proj_input)\n",
        "        return self.layernorm_2(proj_input + proj_output)\n",
        "\n",
        "    def get_config(self):\n",
        "        config = super().get_config()\n",
        "        config.update(\n",
        "            {\n",
        "                \"embed_dim\": self.embed_dim,\n",
        "                \"dense_dim\": self.dense_dim,\n",
        "                \"num_heads\": self.num_heads,\n",
        "            }\n",
        "        )\n",
        "        return config\n",
        "\n",
        "\n",
        "class PositionalEmbedding(layers.Layer):\n",
        "    def __init__(self, sequence_length, vocab_size, embed_dim, **kwargs):\n",
        "        super().__init__(**kwargs)\n",
        "        self.token_embeddings = layers.Embedding(\n",
        "            input_dim=vocab_size, output_dim=embed_dim\n",
        "        )\n",
        "        self.position_embeddings = layers.Embedding(\n",
        "            input_dim=sequence_length, output_dim=embed_dim\n",
        "        )\n",
        "        self.sequence_length = sequence_length\n",
        "        self.vocab_size = vocab_size\n",
        "        self.embed_dim = embed_dim\n",
        "\n",
        "    def call(self, inputs):\n",
        "        length = tf.shape(inputs)[-1]\n",
        "        positions = tf.range(start=0, limit=length, delta=1)\n",
        "        embedded_tokens = self.token_embeddings(inputs)\n",
        "        embedded_positions = self.position_embeddings(positions)\n",
        "        return embedded_tokens + embedded_positions\n",
        "\n",
        "    def compute_mask(self, inputs, mask=None):\n",
        "        return tf.math.not_equal(inputs, 0)\n",
        "\n",
        "    def get_config(self):\n",
        "        config = super().get_config()\n",
        "        config.update(\n",
        "            {\n",
        "                \"sequence_length\": self.sequence_length,\n",
        "                \"vocab_size\": self.vocab_size,\n",
        "                \"embed_dim\": self.embed_dim,\n",
        "            }\n",
        "        )\n",
        "        return config\n",
        "\n",
        "\n",
        "class TransformerDecoder(layers.Layer):\n",
        "    def __init__(self, embed_dim, latent_dim, num_heads, **kwargs):\n",
        "        super().__init__(**kwargs)\n",
        "        self.embed_dim = embed_dim\n",
        "        self.latent_dim = latent_dim\n",
        "        self.num_heads = num_heads\n",
        "        self.attention_1 = layers.MultiHeadAttention(\n",
        "            num_heads=num_heads, key_dim=embed_dim\n",
        "        )\n",
        "        self.attention_2 = layers.MultiHeadAttention(\n",
        "            num_heads=num_heads, key_dim=embed_dim\n",
        "        )\n",
        "        self.dense_proj = keras.Sequential(\n",
        "            [\n",
        "                layers.Dense(latent_dim, activation=\"relu\"),\n",
        "                layers.Dense(embed_dim),\n",
        "            ]\n",
        "        )\n",
        "        self.layernorm_1 = layers.LayerNormalization()\n",
        "        self.layernorm_2 = layers.LayerNormalization()\n",
        "        self.layernorm_3 = layers.LayerNormalization()\n",
        "        self.add = layers.Add()  # instead of `+` to preserve mask\n",
        "        self.supports_masking = True\n",
        "\n",
        "    def call(self, inputs, encoder_outputs, mask=None):\n",
        "        attention_output_1 = self.attention_1(\n",
        "            query=inputs, value=inputs, key=inputs, use_causal_mask=True\n",
        "        )\n",
        "        out_1 = self.layernorm_1(self.add([inputs, attention_output_1]))\n",
        "\n",
        "        attention_output_2 = self.attention_2(\n",
        "            query=out_1,\n",
        "            value=encoder_outputs,\n",
        "            key=encoder_outputs,\n",
        "        )\n",
        "        out_2 = self.layernorm_2(self.add([out_1, attention_output_2]))\n",
        "\n",
        "        proj_output = self.dense_proj(out_2)\n",
        "        return self.layernorm_3(self.add([out_2, proj_output]))\n",
        "\n",
        "\n",
        "    def get_config(self):\n",
        "        config = super().get_config()\n",
        "        config.update(\n",
        "            {\n",
        "                \"embed_dim\": self.embed_dim,\n",
        "                \"latent_dim\": self.latent_dim,\n",
        "                \"num_heads\": self.num_heads,\n",
        "            }\n",
        "        )\n",
        "        return config"
      ],
      "metadata": {
        "trusted": true,
        "id": "xTcH4LDkjH2w"
      },
      "execution_count": 21,
      "outputs": []
    },
    {
      "cell_type": "code",
      "source": [
        "embed_dim = 300\n",
        "latent_dim = 2048\n",
        "num_heads = 16\n",
        "num_en_transformer_blocks = 1\n",
        "num_de_transformer_blocks = 1\n",
        "\n",
        "encoder_inputs = keras.Input(shape=(None,), dtype=\"int64\", name=\"encoder_inputs\")\n",
        "x = PositionalEmbedding(sequence_length, vocab_input_size, embed_dim)(encoder_inputs)\n",
        "for _ in range(num_en_transformer_blocks):\n",
        "    x = TransformerEncoder(embed_dim, latent_dim, num_heads)(x)\n",
        "\n",
        "encoder_outputs = x\n",
        "encoder = keras.Model(encoder_inputs, encoder_outputs,name=\"encoder\")\n",
        "\n",
        "decoder_inputs = keras.Input(shape=(None,), dtype=\"int64\", name=\"decoder_inputs\")\n",
        "encoded_seq_inputs = keras.Input(shape=(None, embed_dim), name=\"decoder_state_inputs\")\n",
        "x = PositionalEmbedding(sequence_ans_length, vocab_input_size, embed_dim)(decoder_inputs)\n",
        "x = TransformerDecoder(embed_dim, latent_dim, num_heads)(x, encoded_seq_inputs)\n",
        "for _ in range(num_de_transformer_blocks-1):\n",
        "    x = TransformerDecoder(embed_dim, latent_dim, num_heads)(x,x)\n",
        "    x = layers.Dropout(0)(x)\n",
        "decoder_outputs = layers.Dense(vocab_ans_size, activation=\"softmax\")(x)\n",
        "decoder = keras.Model([decoder_inputs, encoded_seq_inputs], decoder_outputs, name=\"decoder\")\n",
        "\n",
        "decoder_outputs = decoder([decoder_inputs, encoder_outputs])\n",
        "transformer = keras.Model(\n",
        "    [encoder_inputs, decoder_inputs], decoder_outputs, name=\"transformer\"\n",
        ")"
      ],
      "metadata": {
        "trusted": true,
        "id": "OZoBBwikjH2x"
      },
      "execution_count": 22,
      "outputs": []
    },
    {
      "cell_type": "code",
      "source": [
        "decoder.summary()"
      ],
      "metadata": {
        "colab": {
          "base_uri": "https://localhost:8080/"
        },
        "id": "Jy8izU_H9nFk",
        "outputId": "fb7d650d-6b72-4fe4-a06f-30682f36e626"
      },
      "execution_count": 23,
      "outputs": [
        {
          "output_type": "stream",
          "name": "stdout",
          "text": [
            "Model: \"decoder\"\n",
            "__________________________________________________________________________________________________\n",
            " Layer (type)                Output Shape                 Param #   Connected to                  \n",
            "==================================================================================================\n",
            " decoder_inputs (InputLayer  [(None, None)]               0         []                            \n",
            " )                                                                                                \n",
            "                                                                                                  \n",
            " positional_embedding_1 (Po  (None, None, 300)            1501500   ['decoder_inputs[0][0]']      \n",
            " sitionalEmbedding)                                                                               \n",
            "                                                                                                  \n",
            " decoder_state_inputs (Inpu  [(None, None, 300)]          0         []                            \n",
            " tLayer)                                                                                          \n",
            "                                                                                                  \n",
            " transformer_decoder (Trans  (None, None, 300)            1278234   ['positional_embedding_1[0][0]\n",
            " formerDecoder)                                           8         ',                            \n",
            "                                                                     'decoder_state_inputs[0][0]']\n",
            "                                                                                                  \n",
            " dense_4 (Dense)             (None, None, 8)              2408      ['transformer_decoder[0][0]'] \n",
            "                                                                                                  \n",
            "==================================================================================================\n",
            "Total params: 14286256 (54.50 MB)\n",
            "Trainable params: 14286256 (54.50 MB)\n",
            "Non-trainable params: 0 (0.00 Byte)\n",
            "__________________________________________________________________________________________________\n"
          ]
        }
      ]
    },
    {
      "cell_type": "code",
      "source": [
        "checkpoint = ModelCheckpoint('transformer_model_best_val.h5', #อย่าลืมเปลี่ยน path ให้ file\n",
        "                             verbose=1,\n",
        "                             monitor='val_accuracy',\n",
        "                             save_best_only=True,\n",
        "                             mode='max')\n",
        "\n",
        "transformer.summary()\n",
        "transformer.compile(\n",
        "    \"rmsprop\", loss=\"sparse_categorical_crossentropy\", metrics=[\"accuracy\"]\n",
        ")\n"
      ],
      "metadata": {
        "trusted": true,
        "id": "qOyR7wzajH2y",
        "colab": {
          "base_uri": "https://localhost:8080/"
        },
        "outputId": "77d13134-0ad9-48e7-b897-ded789916752"
      },
      "execution_count": 24,
      "outputs": [
        {
          "output_type": "stream",
          "name": "stdout",
          "text": [
            "Model: \"transformer\"\n",
            "__________________________________________________________________________________________________\n",
            " Layer (type)                Output Shape                 Param #   Connected to                  \n",
            "==================================================================================================\n",
            " encoder_inputs (InputLayer  [(None, None)]               0         []                            \n",
            " )                                                                                                \n",
            "                                                                                                  \n",
            " positional_embedding (Posi  (None, None, 300)            1530000   ['encoder_inputs[0][0]']      \n",
            " tionalEmbedding)                                                                                 \n",
            "                                                                                                  \n",
            " decoder_inputs (InputLayer  [(None, None)]               0         []                            \n",
            " )                                                                                                \n",
            "                                                                                                  \n",
            " transformer_encoder (Trans  (None, None, 300)            7007048   ['positional_embedding[0][0]']\n",
            " formerEncoder)                                                                                   \n",
            "                                                                                                  \n",
            " decoder (Functional)        (None, None, 8)              1428625   ['decoder_inputs[0][0]',      \n",
            "                                                          6          'transformer_encoder[0][0]'] \n",
            "                                                                                                  \n",
            "==================================================================================================\n",
            "Total params: 22823304 (87.06 MB)\n",
            "Trainable params: 22823304 (87.06 MB)\n",
            "Non-trainable params: 0 (0.00 Byte)\n",
            "__________________________________________________________________________________________________\n"
          ]
        }
      ]
    },
    {
      "cell_type": "code",
      "source": [
        "tf.keras.utils.plot_model(transformer,\n",
        "                          to_file='transformer.png',\n",
        "                          show_shapes=True,\n",
        "                          expand_nested=True,\n",
        "                          show_layer_names=True,\n",
        "                          show_layer_activations=True,\n",
        "                          show_trainable=False)"
      ],
      "metadata": {
        "colab": {
          "base_uri": "https://localhost:8080/",
          "height": 683
        },
        "id": "i87AINIL9-LT",
        "outputId": "ccdafc63-5705-41d6-8468-f0514473f4b0"
      },
      "execution_count": 25,
      "outputs": [
        {
          "output_type": "execute_result",
          "data": {
            "image/png": "[encoded data removed]",
            "text/plain": [
              "<IPython.core.display.Image object>"
            ]
          },
          "metadata": {},
          "execution_count": 25
        }
      ]
    },
    {
      "cell_type": "code",
      "source": [
        "force_train = False\n",
        "epochs = 300  # This should be at least 30 for convergence\n",
        "if not os.path.exists('transformer_model_best_val.h5') or force_train:\n",
        "    transformer.fit(train_ds, epochs=epochs, validation_data=val_ds,callbacks=[checkpoint])"
      ],
      "metadata": {
        "trusted": true,
        "id": "f2qX9difjH2y"
      },
      "execution_count": 26,
      "outputs": []
    },
    {
      "cell_type": "code",
      "source": [
        "transformer = load_model('transformer_model_best_val.h5',custom_objects={\n",
        "    'PositionalEmbedding': PositionalEmbedding,\n",
        "    'TransformerDecoder': TransformerDecoder,\n",
        "    'TransformerEncoder': TransformerEncoder,})\n",
        "\n",
        "ans_vocab = ans_vectorization.get_vocabulary()\n",
        "ans_index_lookup = dict(zip(range(len(ans_vocab)), ans_vocab))\n",
        "max_decoded_sentence_length = sequence_ans_length\n",
        "\n",
        "\n",
        "def decode_sequence(input_sentence):\n",
        "    tokenized_input_sentence = input_vectorization([input_sentence])\n",
        "    decoded_sentence = \"[start]\"\n",
        "    for i in range(max_decoded_sentence_length):\n",
        "        tokenized_target_sentence = ans_vectorization([decoded_sentence])[:, :-1]\n",
        "        predictions = transformer([tokenized_input_sentence, tokenized_target_sentence])\n",
        "        # print(predictions)\n",
        "        sampled_token_index = np.argmax(predictions[0, i, :])\n",
        "        sampled_token = ans_index_lookup[sampled_token_index]\n",
        "        decoded_sentence += \" \" + sampled_token\n",
        "        if sampled_token == \"[end]\":\n",
        "            break\n",
        "        # else:\n",
        "        #     decoded_sentence += \" \" + sampled_token\n",
        "    # return decoded_sentence[8:].strip().upper().replace(' ',',')\n",
        "    return decoded_sentence.replace(\" \", \",\").replace(\"[start]\", \"\").replace(\"[end]\", \"\").upper().strip().strip(',')\n"
      ],
      "metadata": {
        "trusted": true,
        "id": "Z1JEjf-WjH2z"
      },
      "execution_count": 27,
      "outputs": []
    },
    {
      "cell_type": "code",
      "source": [
        "test_input_texts = [pair[0] for pair in test_pairs]\n",
        "test_ans_texts = [pair[1] for pair in test_pairs]\n",
        "\n",
        "for _ in range(30):\n",
        "    input_sentence,ans = random.choice(test_pairs)\n",
        "    print(input_sentence)\n",
        "    translated = decode_sequence(input_sentence)\n",
        "    print(translated.replace(\",\", \"\"))\n",
        "    print(ans.replace(\" \", \"\").replace(\"[pad]\", \"\").replace(\"[start]\", \"\").replace(\"[end]\", \"\").upper().strip().strip(','))"
      ],
      "metadata": {
        "colab": {
          "base_uri": "https://localhost:8080/"
        },
        "id": "LLcM0YHY9yGx",
        "outputId": "9308b73a-b1da-4ca0-8bf3-9a92f931c3e0"
      },
      "execution_count": 28,
      "outputs": [
        {
          "output_type": "stream",
          "name": "stdout",
          "text": [
            "ฉัน เขียน ดาต้า เซท ไป เยอะ มาก ทั้ง ที่ ตา จะ ปิด   สุด ยอด มาก เลย\n",
            "E\n",
            "E\n",
            "ตา นี้ ฉัน จะ เล่น กับ ตา\n",
            "TT\n",
            "TP\n",
            "ตา เค้า เล่น แล้ว ห้าม แย่ง สิเทอ\n",
            "T\n",
            "T\n",
            "คน ยุโรป ส่วน ใหญ่ มี ปัญหา เกี่ยว กับ การ รับ แสง ของ ดวง ตา มาก กว่า ชาว เอเชีย เนื่อง จาก มี สี ของ ดวง ตา ที่ อ่อน กว่า\n",
            "EE\n",
            "EE\n",
            "ตา ของ แฟน ฉัน มี สี น้ำตาล\n",
            "E\n",
            "P\n",
            "ตา เธอ สวย มาก เลย   จน ฉัน อยาก ได้ ตา ของ เธอ มา เป็น ของ ฉัน เลย\n",
            "EE\n",
            "EE\n",
            "ตา มี ขาย หอย ยาย มอย ขาย สี\n",
            "P\n",
            "P\n",
            "ตา เชียร์ ทีม   chicago   bull   เพราะ ตา ชอบ   micheal   jordan\n",
            "PE\n",
            "PP\n",
            "เมื่อ โป เก ม่อน ใช้ ท่า ต่อสู้ ใน ตา นี้ แล้ว   ใน ตา ถัด ไป จะ ไม่ ได้ สามารถ ใช้ ท่า ต่อ สู่ นี้ ได้ อีก\n",
            "TT\n",
            "TT\n",
            "โอดิน ได้ เสียสละ ตา ไป หนึ่ง ข้าง เพื่อ ความ รู้ ทุก อย่าง ส่วน อีก ตา ยัง เหลือ ไว้\n",
            "PE\n",
            "EE\n",
            "ตอน นี้ ฉัน รู้สึก ง่วง จน ตา จะ ปิด\n",
            "E\n",
            "E\n",
            "งั้น ก็ ถึง ตา ที่ ฉัน จะ ร้องเรียน ผู้ อำนวย การ แล้ว ล่ะ ถ้า งั้น\n",
            "T\n",
            "T\n",
            "ตา ของ เขา เป็น คน ออก ค่า ใช้จ่าย ทุก อย่าง ตอน เขา ผ่าตัดตา และ รักษา ตัว\n",
            "E\n",
            "PE\n",
            "ผม ต่อ คิว ก่อน   ต้อง ถึง ตาผม ก่อน สิ\n",
            "T\n",
            "T\n",
            "ตาทิพย์ กลับ มา จาก ตลาด หรือ ยัง ครับ\n",
            "P\n",
            "P\n",
            "ยาย   ตา ไป ไหน อ่ะ\n",
            "P\n",
            "P\n",
            "ตา ฉัน ไม่ ค่อย ดี   เพราะ ใช้ สายตา มาก เกิน ไป\n",
            "EE\n",
            "EE\n",
            "ตา ของ ฉัน โดน น้ำ เข้า เยอะ เลย\n",
            "E\n",
            "E\n",
            "เมื่อ กี้ ตาพิเอา อะไร ไม่ รู้ มา ทาตา ของ ฉัน\n",
            "P\n",
            "PE\n",
            "ฉัน ส่ง ตา ของ ฉัน ให้ ไป ประชุม ที่ แคนาดา\n",
            "P\n",
            "P\n",
            "ตา นี้ แหละ   ผม จะ ชนะ ตา ให้ ได้ เลย\n",
            "TT\n",
            "TP\n",
            "หาก มี ความ ผิด ปกติ เกี่ยว กับ ตาควร พบ หมอ และ ให้ หมอ ตรวจ\n",
            "E\n",
            "E\n",
            "ขยี้ ตา ทำ ให้ ตา แดง และ น้ำ ตา ไหล\n",
            "EE\n",
            "EE\n",
            "ตา เกิด ที่ จังหวัดปัตตานี\n",
            "P\n",
            "P\n",
            "เมื่อ มี อาการ ตาลาย และ เห็น ภาพ ซ้อน   ควร ไป หา หมอ\n",
            "E\n",
            "E\n",
            "พอ รับ ใส่ บาตร เสร็จ เรา กับ ตา ก็ เข้า บ้าน   เตรียม จะ นอน\n",
            "P\n",
            "P\n",
            "ไม่ น่า เชื่อ ว่า ทำ ตา มา แล้ว ดู ดี เยอะ เลย\n",
            "P\n",
            "E\n",
            "เรา บอก ตา ว่า งั้น ขอ เล่น เกม อีก สอง ตา แล้ว จะ ไป พัก สายตา\n",
            "PTP\n",
            "PTE\n",
            "ตา ของ ฉัน   ตื่นตาตื่นใจ   ที่ ดวง ตา จะ ได้ กลับ มา มอง เห็น อีก ครั้ง\n",
            "EE\n",
            "PEE\n",
            "ตา ถาม ว่า การ บ้าน อะไร\n",
            "P\n",
            "P\n"
          ]
        }
      ]
    },
    {
      "cell_type": "code",
      "source": [
        "transformer.evaluate(test_ds, verbose=1)"
      ],
      "metadata": {
        "trusted": true,
        "id": "44hSVrTajH20",
        "colab": {
          "base_uri": "https://localhost:8080/"
        },
        "outputId": "40931b7e-5cbe-413d-e34e-10d24fdccb53"
      },
      "execution_count": 29,
      "outputs": [
        {
          "output_type": "stream",
          "name": "stdout",
          "text": [
            "12/12 [==============================] - 3s 69ms/step - loss: 0.3113 - accuracy: 0.8997\n"
          ]
        },
        {
          "output_type": "execute_result",
          "data": {
            "text/plain": [
              "[0.3112967610359192, 0.8996952176094055]"
            ]
          },
          "metadata": {},
          "execution_count": 29
        }
      ]
    },
    {
      "cell_type": "code",
      "source": [
        "def file_pred(inpfile,ansfile=\"my_ans.txt\",writeout=True):\n",
        "    out=[]\n",
        "    with open(inpfile, 'r',encoding = 'utf-8-sig') as i_file:\n",
        "        for i in list(i_file):\n",
        "            c=0\n",
        "            i_s=i.split('::')\n",
        "            s = i_s[1].strip()\n",
        "            token=pythainlp.word_tokenize(s,engine = 'deepcut')\n",
        "            for k in token:\n",
        "                if 'ตา' in k:\n",
        "                    c+=1\n",
        "            s = ' '.join(token)\n",
        "            a=decode_sequence(s)\n",
        "            al=a.split(',')\n",
        "            if len(al)>c:\n",
        "                al=al[:c]\n",
        "                print('trimed output length')\n",
        "            a=','.join(al)\n",
        "            out.append(i_s[0]+'::'+a)\n",
        "    if writeout:\n",
        "        with open(ansfile, 'w', encoding='utf-8-sig') as o_file:\n",
        "            o_file.write('\\n'.join(out))\n",
        "    return out"
      ],
      "metadata": {
        "id": "aAWd3phko_4a"
      },
      "execution_count": 30,
      "outputs": []
    },
    {
      "cell_type": "code",
      "source": [
        "!mkdir -p /content/eval_test_set\n",
        "%cd /content/eval_test_set\n",
        "from google.colab import files\n",
        "uploaded = files.upload()\n",
        "t=file_pred(next(iter(uploaded)),'ans.txt')\n",
        "print(t)\n",
        "files.download('ans.txt')"
      ],
      "metadata": {
        "id": "Zz8ldMnJJx89",
        "outputId": "bca97828-c6d0-4081-d76c-8b6f15112082",
        "colab": {
          "base_uri": "https://localhost:8080/",
          "height": 648
        }
      },
      "execution_count": 31,
      "outputs": [
        {
          "output_type": "stream",
          "name": "stdout",
          "text": [
            "/content/eval_test_set\n"
          ]
        },
        {
          "output_type": "display_data",
          "data": {
            "text/plain": [
              "<IPython.core.display.HTML object>"
            ],
            "text/html": [
              "\n",
              "     <input type=\"file\" id=\"files-ac6989cd-6e38-4a91-9588-e35168d57d49\" name=\"files[]\" multiple disabled\n",
              "        style=\"border:none\" />\n",
              "     <output id=\"result-ac6989cd-6e38-4a91-9588-e35168d57d49\">\n",
              "      Upload widget is only available when the cell has been executed in the\n",
              "      current browser session. Please rerun this cell to enable.\n",
              "      </output>\n",
              "      <script>// Copyright 2017 Google LLC\n",
              "//\n",
              "// Licensed under the Apache License, Version 2.0 (the \"License\");\n",
              "// you may not use this file except in compliance with the License.\n",
              "// You may obtain a copy of the License at\n",
              "//\n",
              "//      http://www.apache.org/licenses/LICENSE-2.0\n",
              "//\n",
              "// Unless required by applicable law or agreed to in writing, software\n",
              "// distributed under the License is distributed on an \"AS IS\" BASIS,\n",
              "// WITHOUT WARRANTIES OR CONDITIONS OF ANY KIND, either express or implied.\n",
              "// See the License for the specific language governing permissions and\n",
              "// limitations under the License.\n",
              "\n",
              "/**\n",
              " * @fileoverview Helpers for google.colab Python module.\n",
              " */\n",
              "(function(scope) {\n",
              "function span(text, styleAttributes = {}) {\n",
              "  const element = document.createElement('span');\n",
              "  element.textContent = text;\n",
              "  for (const key of Object.keys(styleAttributes)) {\n",
              "    element.style[key] = styleAttributes[key];\n",
              "  }\n",
              "  return element;\n",
              "}\n",
              "\n",
              "// Max number of bytes which will be uploaded at a time.\n",
              "const MAX_PAYLOAD_SIZE = 100 * 1024;\n",
              "\n",
              "function _uploadFiles(inputId, outputId) {\n",
              "  const steps = uploadFilesStep(inputId, outputId);\n",
              "  const outputElement = document.getElementById(outputId);\n",
              "  // Cache steps on the outputElement to make it available for the next call\n",
              "  // to uploadFilesContinue from Python.\n",
              "  outputElement.steps = steps;\n",
              "\n",
              "  return _uploadFilesContinue(outputId);\n",
              "}\n",
              "\n",
              "// This is roughly an async generator (not supported in the browser yet),\n",
              "// where there are multiple asynchronous steps and the Python side is going\n",
              "// to poll for completion of each step.\n",
              "// This uses a Promise to block the python side on completion of each step,\n",
              "// then passes the result of the previous step as the input to the next step.\n",
              "function _uploadFilesContinue(outputId) {\n",
              "  const outputElement = document.getElementById(outputId);\n",
              "  const steps = outputElement.steps;\n",
              "\n",
              "  const next = steps.next(outputElement.lastPromiseValue);\n",
              "  return Promise.resolve(next.value.promise).then((value) => {\n",
              "    // Cache the last promise value to make it available to the next\n",
              "    // step of the generator.\n",
              "    outputElement.lastPromiseValue = value;\n",
              "    return next.value.response;\n",
              "  });\n",
              "}\n",
              "\n",
              "/**\n",
              " * Generator function which is called between each async step of the upload\n",
              " * process.\n",
              " * @param {string} inputId Element ID of the input file picker element.\n",
              " * @param {string} outputId Element ID of the output display.\n",
              " * @return {!Iterable<!Object>} Iterable of next steps.\n",
              " */\n",
              "function* uploadFilesStep(inputId, outputId) {\n",
              "  const inputElement = document.getElementById(inputId);\n",
              "  inputElement.disabled = false;\n",
              "\n",
              "  const outputElement = document.getElementById(outputId);\n",
              "  outputElement.innerHTML = '';\n",
              "\n",
              "  const pickedPromise = new Promise((resolve) => {\n",
              "    inputElement.addEventListener('change', (e) => {\n",
              "      resolve(e.target.files);\n",
              "    });\n",
              "  });\n",
              "\n",
              "  const cancel = document.createElement('button');\n",
              "  inputElement.parentElement.appendChild(cancel);\n",
              "  cancel.textContent = 'Cancel upload';\n",
              "  const cancelPromise = new Promise((resolve) => {\n",
              "    cancel.onclick = () => {\n",
              "      resolve(null);\n",
              "    };\n",
              "  });\n",
              "\n",
              "  // Wait for the user to pick the files.\n",
              "  const files = yield {\n",
              "    promise: Promise.race([pickedPromise, cancelPromise]),\n",
              "    response: {\n",
              "      action: 'starting',\n",
              "    }\n",
              "  };\n",
              "\n",
              "  cancel.remove();\n",
              "\n",
              "  // Disable the input element since further picks are not allowed.\n",
              "  inputElement.disabled = true;\n",
              "\n",
              "  if (!files) {\n",
              "    return {\n",
              "      response: {\n",
              "        action: 'complete',\n",
              "      }\n",
              "    };\n",
              "  }\n",
              "\n",
              "  for (const file of files) {\n",
              "    const li = document.createElement('li');\n",
              "    li.append(span(file.name, {fontWeight: 'bold'}));\n",
              "    li.append(span(\n",
              "        `(${file.type || 'n/a'}) - ${file.size} bytes, ` +\n",
              "        `last modified: ${\n",
              "            file.lastModifiedDate ? file.lastModifiedDate.toLocaleDateString() :\n",
              "                                    'n/a'} - `));\n",
              "    const percent = span('0% done');\n",
              "    li.appendChild(percent);\n",
              "\n",
              "    outputElement.appendChild(li);\n",
              "\n",
              "    const fileDataPromise = new Promise((resolve) => {\n",
              "      const reader = new FileReader();\n",
              "      reader.onload = (e) => {\n",
              "        resolve(e.target.result);\n",
              "      };\n",
              "      reader.readAsArrayBuffer(file);\n",
              "    });\n",
              "    // Wait for the data to be ready.\n",
              "    let fileData = yield {\n",
              "      promise: fileDataPromise,\n",
              "      response: {\n",
              "        action: 'continue',\n",
              "      }\n",
              "    };\n",
              "\n",
              "    // Use a chunked sending to avoid message size limits. See b/62115660.\n",
              "    let position = 0;\n",
              "    do {\n",
              "      const length = Math.min(fileData.byteLength - position, MAX_PAYLOAD_SIZE);\n",
              "      const chunk = new Uint8Array(fileData, position, length);\n",
              "      position += length;\n",
              "\n",
              "      const base64 = btoa(String.fromCharCode.apply(null, chunk));\n",
              "      yield {\n",
              "        response: {\n",
              "          action: 'append',\n",
              "          file: file.name,\n",
              "          data: base64,\n",
              "        },\n",
              "      };\n",
              "\n",
              "      let percentDone = fileData.byteLength === 0 ?\n",
              "          100 :\n",
              "          Math.round((position / fileData.byteLength) * 100);\n",
              "      percent.textContent = `${percentDone}% done`;\n",
              "\n",
              "    } while (position < fileData.byteLength);\n",
              "  }\n",
              "\n",
              "  // All done.\n",
              "  yield {\n",
              "    response: {\n",
              "      action: 'complete',\n",
              "    }\n",
              "  };\n",
              "}\n",
              "\n",
              "scope.google = scope.google || {};\n",
              "scope.google.colab = scope.google.colab || {};\n",
              "scope.google.colab._files = {\n",
              "  _uploadFiles,\n",
              "  _uploadFilesContinue,\n",
              "};\n",
              "})(self);\n",
              "</script> "
            ]
          },
          "metadata": {}
        },
        {
          "output_type": "stream",
          "name": "stdout",
          "text": [
            "Saving input_k.txt to input_k.txt\n",
            "2/2 [==============================] - 4s 232ms/step\n",
            "2/2 [==============================] - 0s 228ms/step\n",
            "2/2 [==============================] - 0s 214ms/step\n",
            "2/2 [==============================] - 0s 202ms/step\n",
            "2/2 [==============================] - 0s 6ms/step\n",
            "2/2 [==============================] - 0s 228ms/step\n",
            "1/1 [==============================] - 0s 221ms/step\n",
            "2/2 [==============================] - 0s 231ms/step\n",
            "1/1 [==============================] - 0s 224ms/step\n",
            "1/1 [==============================] - 0s 20ms/step\n",
            "2/2 [==============================] - 0s 209ms/step\n",
            "2/2 [==============================] - 0s 215ms/step\n",
            "2/2 [==============================] - 0s 7ms/step\n",
            "1/1 [==============================] - 0s 34ms/step\n",
            "2/2 [==============================] - 0s 237ms/step\n",
            "2/2 [==============================] - 0s 294ms/step\n",
            "3/3 [==============================] - 0s 144ms/step\n",
            "2/2 [==============================] - 0s 9ms/step\n",
            "3/3 [==============================] - 0s 6ms/step\n",
            "2/2 [==============================] - 0s 8ms/step\n",
            "2/2 [==============================] - 0s 253ms/step\n",
            "1/1 [==============================] - 0s 30ms/step\n",
            "1/1 [==============================] - 0s 33ms/step\n",
            "2/2 [==============================] - 0s 10ms/step\n",
            "1/1 [==============================] - 0s 271ms/step\n",
            "1/1 [==============================] - 0s 21ms/step\n",
            "1/1 [==============================] - 0s 227ms/step\n",
            "2/2 [==============================] - 0s 275ms/step\n",
            "1/1 [==============================] - 0s 35ms/step\n",
            "1/1 [==============================] - 0s 286ms/step\n",
            "['1::E,E', '2::T,T', '3::P,E,P', '4::P,E,P', '5::P,E', '6::P,E', '7::E', '8::P', '9::P', '10::E', '11::E', '12::E', '13::E', '14::E', '15::E', '16::P', '17::P', '18::P', '19::P', '20::P', '21::P', '22::P', '23::P,T,P', '24::P,T,P', '25::P,P', '26::T,T', '27::T,T', '28::T', '29::P,P', '30::P,E']\n"
          ]
        },
        {
          "output_type": "display_data",
          "data": {
            "text/plain": [
              "<IPython.core.display.Javascript object>"
            ],
            "application/javascript": [
              "\n",
              "    async function download(id, filename, size) {\n",
              "      if (!google.colab.kernel.accessAllowed) {\n",
              "        return;\n",
              "      }\n",
              "      const div = document.createElement('div');\n",
              "      const label = document.createElement('label');\n",
              "      label.textContent = `Downloading \"${filename}\": `;\n",
              "      div.appendChild(label);\n",
              "      const progress = document.createElement('progress');\n",
              "      progress.max = size;\n",
              "      div.appendChild(progress);\n",
              "      document.body.appendChild(div);\n",
              "\n",
              "      const buffers = [];\n",
              "      let downloaded = 0;\n",
              "\n",
              "      const channel = await google.colab.kernel.comms.open(id);\n",
              "      // Send a message to notify the kernel that we're ready.\n",
              "      channel.send({})\n",
              "\n",
              "      for await (const message of channel.messages) {\n",
              "        // Send a message to notify the kernel that we're ready.\n",
              "        channel.send({})\n",
              "        if (message.buffers) {\n",
              "          for (const buffer of message.buffers) {\n",
              "            buffers.push(buffer);\n",
              "            downloaded += buffer.byteLength;\n",
              "            progress.value = downloaded;\n",
              "          }\n",
              "        }\n",
              "      }\n",
              "      const blob = new Blob(buffers, {type: 'application/binary'});\n",
              "      const a = document.createElement('a');\n",
              "      a.href = window.URL.createObjectURL(blob);\n",
              "      a.download = filename;\n",
              "      div.appendChild(a);\n",
              "      a.click();\n",
              "      div.remove();\n",
              "    }\n",
              "  "
            ]
          },
          "metadata": {}
        },
        {
          "output_type": "display_data",
          "data": {
            "text/plain": [
              "<IPython.core.display.Javascript object>"
            ],
            "application/javascript": [
              "download(\"download_e0933044-624d-4f68-8085-b8cfecdf4b87\", \"ans.txt\", 207)"
            ]
          },
          "metadata": {}
        }
      ]
    },
    {
      "cell_type": "code",
      "source": [],
      "metadata": {
        "id": "-dUX7LBAqodi"
      },
      "execution_count": 31,
      "outputs": []
    }
  ]
}